{
 "cells": [
  {
   "cell_type": "markdown",
   "metadata": {},
   "source": [
    "# Project 3 - Digital Talent Scholarship 2020\n",
    "## Accomplished by: Adolf Yoshua Marbun"
   ]
  },
  {
   "cell_type": "markdown",
   "metadata": {},
   "source": [
    "### Kriptografi metode Caesar\n",
    "\n",
    "pra-syarat untuk bisa mengerjakan:\n",
    "* list dan string method\n",
    "\n",
    "\n",
    "### Deadline (06.00 AM WIB 29/06/2020)\n",
    "\n",
    "### Jadwal update github: Rabu, Sabtu, Senin\n"
   ]
  },
  {
   "cell_type": "markdown",
   "metadata": {},
   "source": [
    "## Enkripsi dengan metode Caesar:\n",
    "Metode merupakan metode yang paling sederhana dalam melakukan enkripsi. Teknik ini hanya melakukan pemetaan suatu karakter huruf (angka dan karakter spesial tidak termasuk) dengan metode pergeseran karakter. contoh\n",
    "\n",
    "| huruf | shift 2 | shift 3 | shift 4 | shift -2 |\n",
    "|-------|---------|---------|---------|----------|\n",
    "| a     | c       | d       | e       | y        |\n",
    "| A     | C       | D       | E       | Y        |\n",
    "| c     | e       | f       | g       | a        |\n",
    "| z     | b       | c       | d       | x        |\n",
    "| %     | %       | %       | %       | %        |\n",
    "| _     | _       | _       | _       | _        |\n",
    "| 5     | 5       | 5       | 5       | 5        |\n",
    "\n",
    "ketentuan:\n",
    "* pergeseran satu huruf setelah `z` adalah `a`.\n",
    "* Jika input karakter merupakan huruf kapital maka output juga kapital, begitu juga dengan huruf kecil/non-kapital.\n",
    "* semua yang bukan huruf tidak berubah, jadi kalau ada suatu angka maka karakter enkripsinya tetap angka tersebut, begitu juga dengan semua karater spesial termasuk spasi.\n",
    "\n",
    "### Maka, untuk mendeskripsikan (decript) sama dengan menggeser ke arah sebaliknya."
   ]
  },
  {
   "cell_type": "markdown",
   "metadata": {},
   "source": [
    "1. Buatlah fungsi `caesar_encript`, dengan argumen `txt` (string) dan `shift` (intiger) seperti dibawah ini. Yang melakukan peng-ekripsian menggunakan metode Caesar terhadap string `txt`. Keluaran dari fungsi ini berupa string terenkripsi / chiper text.\n",
    " \n",
    "**hint**: method yang mungkin berguna:\n",
    "* `ord()`, `chr()`\n",
    "* string method: `.isalpha()`, `.islower()`, dll\n",
    "* jumlah karakter abjad 26\n",
    "* nilai ord dari abjad/huruf berurutan"
   ]
  },
  {
   "cell_type": "code",
   "execution_count": 1,
   "metadata": {},
   "outputs": [],
   "source": [
    "def caesar_encript(txt,shift):\n",
    "  letter = 'abcdefghijklmnopqrstuvwxyz'\n",
    "  Letter = 'ABCDEFGHIJKLMNOPQRSTUVWXYZ'\n",
    "  cipher_ = ''\n",
    "\n",
    "  for char in txt:\n",
    "    if char in letter:# check if char in letter\n",
    "      code = chr((ord(char) + shift - 97)%26 + 97) # ord('a')\n",
    "      cipher_ += code\n",
    "    elif char in Letter:\n",
    "      code = chr((ord(char) + shift - 65)%26 + 65) # ord('A')\n",
    "      cipher_ += code\n",
    "    else:\n",
    "      cipher_ += char\n",
    "\n",
    "  return cipher_\n",
    "    \n",
    "# Decrypting Caesar\n",
    "def caesar_decript(chiper,shift):\n",
    "  return caesar_encript(chiper,-shift)"
   ]
  },
  {
   "cell_type": "code",
   "execution_count": 2,
   "metadata": {},
   "outputs": [
    {
     "name": "stdout",
     "output_type": "stream",
     "text": [
      "plain text: Haloz DTS mania, MANTAPSZZZ!\n",
      "chiper text: Lepsd HXW qerme, QERXETWDDD!\n"
     ]
    }
   ],
   "source": [
    "# Output check\n",
    "msg = 'Haloz DTS mania, MANTAPSZZZ!'\n",
    "cpr = caesar_encript(msg,4)\n",
    "txt = caesar_decript(cpr,4)\n",
    "\n",
    "print('plain text:',txt)\n",
    "print('chiper text:',cpr)"
   ]
  },
  {
   "cell_type": "code",
   "execution_count": 3,
   "metadata": {},
   "outputs": [
    {
     "name": "stdout",
     "output_type": "stream",
     "text": [
      "plain text: Haloz DTS mania, MANTAPSZZZ!\n",
      "chiper text: Lepsd HXW qerme, QERXETWDDD!\n"
     ]
    }
   ],
   "source": [
    "# Sanity check!!!\n",
    "\n",
    "msg = 'Haloz DTS mania, MANTAPSZZZ!'\n",
    "cpr = caesar_encript(msg,4)\n",
    "txt = caesar_decript(cpr,4)\n",
    "\n",
    "print('plain text:',txt)\n",
    "print('chiper text:',cpr)"
   ]
  },
  {
   "cell_type": "markdown",
   "metadata": {},
   "source": [
    "## Intro 2:\n",
    "### Fungsi shuffle_order akan mengurutkan string `txt` sesuai dengan list `order` parameter. Dimana `len(txt)==len(order)` dan elemen atau item di dalam order memenuhi $x \\in \\{0,..,\\rm{len(txt)-1}\\}$.\n",
    "contoh: \n",
    "`(str) abcde: (list) [0,4,3,2,1]` maka keluarannya adalah `aedcb`. \n",
    "Fungsi ini akan digunakan di soal nomor 3 saat kita bermaksud mengirimkan text terenkripsi secara berkala dengan urutan acak dalam bentuk text-text yang lebih kecil.\n"
   ]
  },
  {
   "cell_type": "markdown",
   "metadata": {},
   "source": [
    "2. Buatlah fungsi `deshuffle_order`, dengan argument `sftxt` (string) dan `order` (list). Yang akan mengembalikan urutan string kembali seperti semula sebelum di-shuffle. Sedemikian hingga: \n",
    "`deshuffle_order(shuffle_order(txt,order),order) == txt`\n",
    " \n",
    "**hint: list method `.index()`**"
   ]
  },
  {
   "cell_type": "code",
   "execution_count": 4,
   "metadata": {},
   "outputs": [],
   "source": [
    "# Fungsi mengacak urutan\n",
    "def shuffle_order(txt, order):\n",
    "  return ''.join([txt[i] for i in order])\n",
    " \n",
    "# Fungsi untuk mengurutkan kembali sesuai order\n",
    "def deshuffle_order(sftxt, order):\n",
    "  return ''.join([sftxt[order.index(i)] for i in range(len(order))])"
   ]
  },
  {
   "cell_type": "code",
   "execution_count": 5,
   "metadata": {},
   "outputs": [
    {
     "name": "stdout",
     "output_type": "stream",
     "text": [
      "cbda\n",
      "abcd\n"
     ]
    }
   ],
   "source": [
    "# Sanity check!!!\n",
    " \n",
    "print(shuffle_order('abcd', [2,1,3,0]))\n",
    "print(deshuffle_order('cbda', [2,1,3,0]))"
   ]
  },
  {
   "cell_type": "markdown",
   "metadata": {},
   "source": [
    "## Intro 3.\n",
    "### Kita akan mengirimkan text melalui sebuah media komunikasi dengan bentuk paket-paket text yang lebih kecil. \n",
    "Misalkan, media komunikasi tersebut hanya memperbolehkan untuk mengirimkan 4 karakter dalam satu waktu. Sehingga, jika kita memiliki sebuah pesan `halo*DTS`, maka kita perlu memecah pesan tersebut menjadi batch-batch yang terdiri dari 4 karakter, dengan kata lain `halo*DTS` perlu dipecah menjadi dua batch yaitu `halo` dan `*DTS`.\n",
    "\n",
    "Namun, Apabila jumlah karakter tidak penuh, contoh: `haloPY` akan menjadi `halo` dana `PY__`, dimana untuk kekurangan karakter diakhir sesuai panjang batch (dalam hal ini 4) ditambkan karakter `_` underscore sejumlah kekurangan tersebut. \n",
    "\n",
    "Untuk memperaman komunikasi, kita bisa `shuffle` urutan karakter-karakter tersebut dengan fungsi di nomor 2.\n",
    "\n",
    "Perhatikan alur pengiriman pesan seperti gambar ilustrasi di bawah ini.\n",
    "\n",
    "![ilustrasi](https://github.com/sykrn/py-dts/blob/master/asets/enkrip.jpg?raw=true)"
   ]
  },
  {
   "cell_type": "markdown",
   "metadata": {},
   "source": [
    "3. Buatlah fungsi `send_batch` dengan argument `txt` (string), `batch_order` (list), dan `shift` (int). Fungsi ini akan memecah text menjadi bagian-bagian yang lebih kecil sesuai dengan panjang dari `batch_order`, di mana batch_order tersebut merupakan list index untuk men-shuffle setiap batch dengan menggunakan fungsi di nomor 2. Keluaran fungsi ini berupa list batch teks terenkripsi.   \n",
    " \n",
    "**Note: tambahkan underscore di akhir (sebelum dipecah menjadi batches) jika panjang `txt` belum memenuhi kelipatan panjang satu batch yaitu `len(batch_order)`.**\n",
    " \n",
    "**Hint: Lihat intro 3 dan gambar, gunakan library `math` jika diperlukan**"
   ]
  },
  {
   "cell_type": "code",
   "execution_count": 6,
   "metadata": {},
   "outputs": [],
   "source": [
    "import math\n",
    " \n",
    " \n",
    "# convert txt ke dalam bentuk list teks yang lebih pendek\n",
    "# dan terenkrispi dengan urutan acak setiap batchnya\n",
    "def send_batch(txt, batch_order, shift=3):\n",
    "  n = len(batch_order)\n",
    "  split_text = []\n",
    "  if len(txt)%n == 0:\n",
    "    for i in range(0, len(txt), n):\n",
    "      split_text.append(txt[i:i+n])\n",
    "\n",
    "    encrypt = []\n",
    "    for each in range(len(split_text)):\n",
    "      encrypt_txt = caesar_encript(split_text[each], shift)\n",
    "      encrypt_txt_sf = shuffle_order(encrypt_txt, batch_order)\n",
    "      encrypt.append(encrypt_txt_sf)\n",
    "      \n",
    "  else:\n",
    "    len_sisa = n - (len(txt) + n)%n\n",
    "    txt_new = txt + '_'*len_sisa\n",
    "    for i in range(0, len(txt_new), n):\n",
    "      split_text.append(txt_new[i:i+n])\n",
    "    \n",
    "    encrypt = []\n",
    "    for each in range(len(split_text)):\n",
    "      encrypt_txt = caesar_encript(split_text[each], shift)\n",
    "      encrypt_txt_sf = shuffle_order(encrypt_txt, batch_order)\n",
    "      encrypt.append(encrypt_txt_sf)\n",
    "\n",
    "  return encrypt\n",
    "\n",
    " \n",
    "# batch_cpr: list keluaran send_batch\n",
    "# fungsi ini akan mengembalikan lagi ke txt semula\n",
    "def receive_batch(batch_cpr, batch_order, shift=3):\n",
    "  batch_txt = [caesar_decript(deshuffle_order(i, batch_order), shift) for i in batch_cpr]\n",
    "  return ''.join(batch_txt).strip('_')"
   ]
  },
  {
   "cell_type": "code",
   "execution_count": 7,
   "metadata": {},
   "outputs": [
    {
     "name": "stdout",
     "output_type": "stream",
     "text": [
      "halo DTS mania, mantaaap!!!\n",
      "['pesl', 'XHW ', 'eqr ', ',e m', 'rexq', 'eete', '!!_!']\n"
     ]
    }
   ],
   "source": [
    "# Sanity check!!!\n",
    " \n",
    "msg_cpr = send_batch('halo DTS mania, mantaaap!!!', [2,1,3,0], 4)\n",
    "msg_txt = receive_batch(msg_cpr, [2,1,3,0], 4)\n",
    "print(msg_txt, msg_cpr,sep='\\n')"
   ]
  }
 ],
 "metadata": {
  "kernelspec": {
   "display_name": "Python 3",
   "language": "python",
   "name": "python3"
  },
  "language_info": {
   "codemirror_mode": {
    "name": "ipython",
    "version": 3
   },
   "file_extension": ".py",
   "mimetype": "text/x-python",
   "name": "python",
   "nbconvert_exporter": "python",
   "pygments_lexer": "ipython3",
   "version": "3.7.4"
  }
 },
 "nbformat": 4,
 "nbformat_minor": 2
}
