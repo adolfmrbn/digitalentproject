{
 "cells": [
  {
   "cell_type": "markdown",
   "metadata": {},
   "source": [
    "# Project 1 - Digital Talent Scholarship 2020\n",
    "## Accomplished by: Adolf Yoshua Marbun"
   ]
  },
  {
   "cell_type": "markdown",
   "metadata": {},
   "source": [
    "### Working with list and dictionary \n",
    "(DEADLINE: 06.00 WIB 8 JUNI 2020)\n",
    "Pada project ini peserta pelatihan python akan membuat code-code untuk mengolah `list` dan `dictionary` \n",
    "\n",
    "Project items yang dibutuhkan:\n",
    "- Pemahaman dan pembuatan `fungsi`, `variabel`, dan `tipe data`\n",
    "- pemahaman `list` dan `dictionary`\n",
    "- logika dasar pemrograman\n",
    "\n",
    "**Note: Tidak diperkenankan untuk menggunakan library/module lain, kecuali disediakan atau didefinisikan**"
   ]
  },
  {
   "cell_type": "markdown",
   "metadata": {},
   "source": [
    "1. Buatlah fungsi `letter_catalog` dengan sebuah positional argument berupa list dan keyword argument `letter` untuk nilai default 'A'. Fungsi `letter_catalog` akan mengembalikan sebuah list yang berisi nama-nama buah yang dimulai dengan huruf yang ada keyword argument `letter`. Jika tidak ada item di list inputan tersebut yang diawali dengan huruf yang didefinisikan di keyword `letter` maka fungsi mengembalikan list kosong."
   ]
  },
  {
   "cell_type": "code",
   "execution_count": 1,
   "metadata": {},
   "outputs": [],
   "source": [
    "# Number 1: Find an item in dict that startswith letter 'X'\n",
    "def letter_catalog(items, letter='A'):\n",
    "  result = []  # empty list to append\n",
    "  no_result = [] # return this list for empty input\n",
    "    \n",
    "  # check length of items\n",
    "  if len(items) == 0:\n",
    "    return no_result\n",
    "  elif len(items) > 0:\n",
    "    for item in items:\n",
    "      if item[0] == letter: # if letter is same with the first \n",
    "                            # character of each item in items\n",
    "        result.append(item)\n",
    "    return result\n",
    "  else:\n",
    "    return \"Invalid!\""
   ]
  },
  {
   "cell_type": "code",
   "execution_count": 2,
   "metadata": {},
   "outputs": [
    {
     "data": {
      "text/plain": [
       "['Apple', 'Avocado']"
      ]
     },
     "execution_count": 2,
     "metadata": {},
     "output_type": "execute_result"
    }
   ],
   "source": [
    "# Output check\n",
    "letter_catalog(['Apple','Avocado','Banana','Blackberries','Blueberries','Cherries'],letter='A')"
   ]
  },
  {
   "cell_type": "markdown",
   "metadata": {},
   "source": [
    "2. Buatlah list `counter_item` yang memiliki sebuah input argument berupa list. Fungsi ini mengembalikan sebuah dictionary yang menghitung jumlah buah dalam list input, dengan `key` berupa nama buah tersebut dan `value` berupa jumlah nama buah tersebut muncul di list input. "
   ]
  },
  {
   "cell_type": "code",
   "execution_count": 5,
   "metadata": {},
   "outputs": [],
   "source": [
    "def counter_item(items):\n",
    "  empty_dict = {}\n",
    "  for item in items: \n",
    "    empty_dict[item] = items.count(item)\n",
    "\n",
    "  return empty_dict"
   ]
  },
  {
   "cell_type": "code",
   "execution_count": 6,
   "metadata": {},
   "outputs": [
    {
     "data": {
      "text/plain": [
       "{'Apple': 3, 'Blueberries': 3, 'Cherries': 1}"
      ]
     },
     "execution_count": 6,
     "metadata": {},
     "output_type": "execute_result"
    }
   ],
   "source": [
    "# Output check\n",
    "counter_item(['Apple','Apple','Apple','Blueberries', 'Blueberries','Blueberries', 'Cherries'])"
   ]
  },
  {
   "cell_type": "markdown",
   "metadata": {},
   "source": [
    "3. Di bawah ini sudah ada tiga variables `fruits`, `prices`, dan `chart`. \n",
    "    1. Buatlah sebuah dictionary yang berupa daftar harga buah dengan `key` berupa nama buah di variable `fruits` dan dengan `value` berupa harga dari buah tersebut di variable `price` (sudah diurutkan sesuai dengan nama-nama buah di varibale `fruits`, kemudian Dictionary tersebut disimpan di dalam variable `fruit_price`.\n",
    "    2. Selanjutnya, Buatlah fungsi `total_price` dengan dua input yaitu: 1) dictionary yang merupakan keluaran dari fungsi `counter_item` dan 2) dictionary harga buah  `fruit_price`. Fungsi ini mengeluarkan sebuah total harga dari daftar buah di dictionary keluaran dari `counter_item`.\n",
    "\n",
    "**Hint**: Gunakan fungsi `counter_item` di soal nomor 2."
   ]
  },
  {
   "cell_type": "code",
   "execution_count": 7,
   "metadata": {},
   "outputs": [],
   "source": [
    "# dua variable berikut jangan diubah\n",
    "fruits = ['Apple','Avocado','Banana','Blackberries','Blueberries','Cherries','Date Fruit','Grapes','Guava','Jackfruit','Kiwifruit']\n",
    "prices = [6,5,3,10,12,7,14,15,8,7,9]\n",
    "\n",
    "# list buah\n",
    "chart = ['Blueberries','Blueberries','Grapes','Apple','Apple','Apple','Blueberries','Guava','Jackfruit','Blueberries','Jackfruit']\n",
    "\n",
    "# dictionary of fruit price\n",
    "fruit_price = {fruits[i] : prices[i] for i in range(len(prices))}\n",
    "\n",
    "''' function for total price '''\n",
    "def total_price(dcounter, fprice):\n",
    "\n",
    "  '''get the key and value of dict (dcounter) and convert to list'''\n",
    "  val_dcounter = list(dcounter.values()) \n",
    "  key_dcounter = list(dcounter.keys())\n",
    "  \n",
    "  '''find price of items in cart'''\n",
    "  price = [] \n",
    "  for item in key_dcounter:\n",
    "    if item in fprice:\n",
    "      price.append(fprice[item])\n",
    "\n",
    "  '''calculating total price by multiplying amount of goods with price per item'''\n",
    "  total_fee = 0\n",
    "  for i in range(len(val_dcounter)):\n",
    "        total_fee += val_dcounter[i] * price[i]\n",
    "\n",
    "  return total_fee"
   ]
  },
  {
   "cell_type": "code",
   "execution_count": 8,
   "metadata": {},
   "outputs": [
    {
     "data": {
      "text/plain": [
       "103"
      ]
     },
     "execution_count": 8,
     "metadata": {},
     "output_type": "execute_result"
    }
   ],
   "source": [
    "# Output check\n",
    "total_price(counter_item(chart),fruit_price)"
   ]
  },
  {
   "cell_type": "markdown",
   "metadata": {},
   "source": [
    "4. Buatlah fungsi `discounted_price` dengan dua positional arguments input dari keluaran fungsi totalprice dan discount dalam persen(80 berarti 80%, dst), dan satu keyword argument `minprice` yang menunjukkan hanya dengan minimum price tersebut yang hanya di-discount, set default value `minprice` ke 100. Fungsi tersebut menghitung nilai harga akhir setelah di-discount sebesar discount variable (argument kedua). Untuk harga total yang kurang dari `minprice` maka keluarannya sama dengan harga total tersebut tanpa discount."
   ]
  },
  {
   "cell_type": "code",
   "execution_count": 9,
   "metadata": {},
   "outputs": [],
   "source": [
    "def discounted_price(total, discount, minprice=100):\n",
    "  '''check if total price is greater or equal than minprice'''\n",
    "  if total >= minprice:\n",
    "    discount_fee = (1 - discount/100) * total\n",
    "  else:\n",
    "    return total\n",
    "\n",
    "  return discount_fee"
   ]
  },
  {
   "cell_type": "code",
   "execution_count": 10,
   "metadata": {},
   "outputs": [
    {
     "data": {
      "text/plain": [
       "92.7"
      ]
     },
     "execution_count": 10,
     "metadata": {},
     "output_type": "execute_result"
    }
   ],
   "source": [
    "# Output check\n",
    "discounted_price(total_price(counter_item(chart),fruit_price),10,minprice=100)"
   ]
  },
  {
   "cell_type": "markdown",
   "metadata": {},
   "source": [
    "5. Buatlah fungsi `print_summary` dengan 2 posisional argument input, list nama2 buah (cth: seperti variable `chart`) dan dictionary harga buah (cth: seperti variable `fruit_price`, yang mengeluarkan tulisan ringakasan dari pembelian buah seperti berikut ini.\n",
    "\n",
    "cth keluaran:\n",
    "```\n",
    "3 Apple : 18\n",
    "4 Blueberries : 48\n",
    "1 Grapes : 15\n",
    "1 Guava : 8\n",
    "2 Jackfruit : 14\n",
    "total : 103\n",
    "discount price : 92.7\n",
    "```\n",
    "dengan format `jumlahbuah`\\<spasi\\>`namabuah`\\<spasi\\>`totalhargabuah\\n` dengan nama nama buah berurutan sesuai abjad `ascending`, kemudian diikuti total harga semuanya dan discount price dengan besaran 10% dengan minimum harga pembelian 100.\n",
    "\n",
    "**Note**: dipisahkan hanya satu spasi. Output harus sama dengan contoh diatas untuk pemanggilan fungsi berikut ini.\n",
    "```\n",
    "print_summary(chart,fruit_price)\n",
    "```"
   ]
  },
  {
   "cell_type": "code",
   "execution_count": 11,
   "metadata": {},
   "outputs": [],
   "source": [
    "def print_summary(items, fprice):\n",
    "\n",
    "  '''invoke the function of counter_time and assign the return value to cart_dict'''\n",
    "  cart_dict = counter_item(items) \n",
    "  cart_dict_sort = dict(sorted(cart_dict.items())) # sort the dictionary items by key\n",
    "  val_cart_dict_sort = list(cart_dict_sort.values()) # get the value of sorted dictionary\n",
    "  key_cart_dict_sort = list(cart_dict_sort.keys()) # get the key of sorted dictionary\n",
    "  \n",
    "  '''find price of items in cart'''\n",
    "  price = [] # list of price of items included\n",
    "  for item in cart_dict_sort:\n",
    "    if item in fprice:\n",
    "      price.append(fprice[item])\n",
    "\n",
    "  '''calculate the total price of each item, total amount, and discount price'''\n",
    "  multiplication = []\n",
    "  for i in range(len(price)):\n",
    "    multi = price[i] * val_cart_dict_sort[i]\n",
    "    multiplication.append(multi)\n",
    "    print(val_cart_dict_sort[i], key_cart_dict_sort[i], \":\", multiplication[i])\n",
    "    \n",
    "  '''invoke total_price and discounted_price function and assign the return value to total_ and discount_'''\n",
    "  print(\"total :\", total_price(cart_dict, fprice))\n",
    "  print(\"discount price :\", discounted_price(total_price(cart_dict, fprice), 10, minprice=100))"
   ]
  },
  {
   "cell_type": "code",
   "execution_count": 12,
   "metadata": {},
   "outputs": [
    {
     "name": "stdout",
     "output_type": "stream",
     "text": [
      "3 Apple : 18\n",
      "4 Blueberries : 48\n",
      "1 Grapes : 15\n",
      "1 Guava : 8\n",
      "2 Jackfruit : 14\n",
      "total : 103\n",
      "discount price : 92.7\n"
     ]
    }
   ],
   "source": [
    "# Output check\n",
    "print_summary(chart, fruit_price)"
   ]
  }
 ],
 "metadata": {
  "kernelspec": {
   "display_name": "Python 3",
   "language": "python",
   "name": "python3"
  },
  "language_info": {
   "codemirror_mode": {
    "name": "ipython",
    "version": 3
   },
   "file_extension": ".py",
   "mimetype": "text/x-python",
   "name": "python",
   "nbconvert_exporter": "python",
   "pygments_lexer": "ipython3",
   "version": "3.7.4"
  }
 },
 "nbformat": 4,
 "nbformat_minor": 2
}
