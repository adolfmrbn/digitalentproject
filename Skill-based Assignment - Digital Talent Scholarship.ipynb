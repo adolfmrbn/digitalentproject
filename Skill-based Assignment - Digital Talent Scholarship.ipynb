{
 "cells": [
  {
   "cell_type": "markdown",
   "metadata": {},
   "source": [
    "# Skill-based Assignment - Digital Talent Scholarship 2020\n",
    "## Accomplished by: Adolf Yoshua Marbun"
   ]
  },
  {
   "cell_type": "code",
   "execution_count": 2,
   "metadata": {},
   "outputs": [],
   "source": [
    "'''\n",
    "namafile: sba.py\n",
    "Lembar kerja/script Latihan SBA\n",
    "'''\n",
    "# >>>>>>LEMBAR KERJA>>>>>>>>>\n",
    "# lembar ini hanya berisi pendefinisian fungsi dan class saja\n",
    " \n",
    "#email netacad\n",
    "email = 'adolfbordeaux99@gmail.com'\n",
    " \n",
    "# >>>>>>Soal 1\n",
    "def fungsiIO():\n",
    "  # Mulai kode anda dari sini\n",
    "  angka = [int(x) for x in input().split()]\n",
    "  sort_angka = sorted(angka)\n",
    "\n",
    "  for i in range(len(sort_angka)):\n",
    "    print('*'*sort_angka[i])\n",
    "# >>>>>>Akhir Soal 1 "
   ]
  },
  {
   "cell_type": "code",
   "execution_count": 6,
   "metadata": {},
   "outputs": [],
   "source": [
    "# >>>>>>Soal 2\n",
    "def caseShopia(txt):\n",
    "  # Mulai kode anda dari sini\n",
    "  ch = ''\n",
    "  for char in txt:\n",
    "    if char.islower():\n",
    "      ch += char.upper()\n",
    "    elif char.isupper():\n",
    "      ch += char.lower()\n",
    "    else:\n",
    "      ch += ''\n",
    "  return ch\n",
    "\n",
    "# >>>>>>Akhir Soal 2"
   ]
  },
  {
   "cell_type": "code",
   "execution_count": 7,
   "metadata": {},
   "outputs": [],
   "source": [
    "# Jangan diubah biarkan seperti ini\n",
    "dcur2idr = {'USD': 14425, 'EUR': 16225, 'AUD': 9925, 'CAD': 10500, \n",
    "             'GBP': 17800, 'CHF': 15200, 'SGD': 10375, 'HKD': 1775, \n",
    "             'JPY': 132500, 'MYR': 3250, 'SAR': 3500, 'WON': 10750, \n",
    "             'IDR': 1}\n",
    " \n",
    "# >>>>>> Soal 3 \n",
    "def usd2eur(usd):\n",
    "  # Mulai kode anda dari sini\n",
    "  conv_money = float(usd  * (dcur2idr['USD']/dcur2idr['EUR']))\n",
    "  return conv_money\n",
    " \n",
    "# >>>>>>Akhir Soal 3"
   ]
  },
  {
   "cell_type": "code",
   "execution_count": 9,
   "metadata": {},
   "outputs": [],
   "source": [
    "# >>>>>>Soal 4 \n",
    "class MoneyChanger:\n",
    "  def __init__(self, dcurrency, base='IDR', percent=2):\n",
    "    # Mulai kode anda dari sini\n",
    "    self.dcurrency = dcurrency\n",
    "    self.base = base\n",
    "    self.percent = percent\n",
    "    \n",
    " \n",
    "  def selling_price(self, nominal, curr):\n",
    "    # Mulai kode anda dari sini\n",
    "    sell_price = ((1 + (self.percent/100)) * float(nominal)  * (self.dcurrency[curr] / self.dcurrency[self.base]))\n",
    "    return sell_price\n",
    " \n",
    "  def buying_price(self, nominal, curr):\n",
    "    # Mulai kode anda dari sini\n",
    "    buy_price = ((1 - (self.percent/100)) * float(nominal) * (self.dcurrency[curr] / self.dcurrency[self.base]))\n",
    "    return buy_price\n",
    " \n",
    "  def change_base(self, new_base):\n",
    "    # Mulai kode anda dari sini\n",
    "    self.base = new_base\n",
    "    for k in self.dcurrency:\n",
    "      self.dcurrency[k] = float(self.dcurrency[k]/self.dcurrency[self.base])\n",
    "    \n",
    "    # return self.selling_price(self, nominal, curr)\n",
    "    \n",
    "\n",
    "\n",
    "# >>>>>>Akhir Soal 4\n",
    "\n",
    "# >>>>>>AKHIR LEMBAR KERJA>>>>>>>>>"
   ]
  },
  {
   "cell_type": "code",
   "execution_count": 10,
   "metadata": {},
   "outputs": [
    {
     "name": "stdout",
     "output_type": "stream",
     "text": [
      "test soal 4\n",
      "base EUR\n",
      "90.68412942989215\n",
      "87.12788906009246\n",
      "base IDR\n",
      "1471350.0\n",
      "1413650.0\n"
     ]
    }
   ],
   "source": [
    "# KODE DI BAWAH INI UNTUK TESTING\n",
    "# ANDA BOLEH MEMBUANG SEMUA KODE DI SAAT SUBMISI KE NETACAD\n",
    " \n",
    "def main():\n",
    "  pass\n",
    "  # >>>>>TEST DI SINI>>>>>>\n",
    "  # gunakan BLOCK MAIN ini untuk mengetes\n",
    "  # untuk pengetesan kode hanya boleh di bagian sini\n",
    "  # silakan test sesuka hati di sini\n",
    " \n",
    "  #############################################\n",
    "  # uncomment script di bawah ini untuk testing\n",
    "  #############################################\n",
    "  \n",
    "  # print('test soal 1')\n",
    "  # fungsiIO() # contoh input: 7 4 5 2 1 3\n",
    "  \n",
    "  # print('test soal 2')\n",
    "  # print(caseShopia('aDolfHai!'))\n",
    "  \n",
    "  # print('test soal 3')\n",
    "  # print(usd2eur(100))  # mengubah 100 USD ke EUR\n",
    "  \n",
    "  print('test soal 4')\n",
    "  mc = MoneyChanger(dcur2idr, base='EUR') # object mc dengan base EUR\n",
    "  print('base', mc.base)\n",
    "  print(mc.selling_price(100,'USD')) # nilai jual 100 USD ke EUR (Base)\n",
    "  print(mc.buying_price(100,'USD')) # nilai beli 100 USD ke EUR (Base)\n",
    "  mc.change_base('IDR') # Ganti Base object mc ke IDR\n",
    "  print('base', mc.base)\n",
    "  print(mc.selling_price(100,'USD')) # nilai jual 100 USD ke IDR (Base)\n",
    "  print(mc.buying_price(100,'USD'))  # nilai beli 100 USD ke IDR (Base)\n",
    " \n",
    "  # >>>>>AKHIR TEST DI SINI>>>>>>\n",
    " \n",
    "if __name__ == '__main__':\n",
    "  main()"
   ]
  }
 ],
 "metadata": {
  "kernelspec": {
   "display_name": "Python 3",
   "language": "python",
   "name": "python3"
  },
  "language_info": {
   "codemirror_mode": {
    "name": "ipython",
    "version": 3
   },
   "file_extension": ".py",
   "mimetype": "text/x-python",
   "name": "python",
   "nbconvert_exporter": "python",
   "pygments_lexer": "ipython3",
   "version": "3.7.4"
  }
 },
 "nbformat": 4,
 "nbformat_minor": 2
}
