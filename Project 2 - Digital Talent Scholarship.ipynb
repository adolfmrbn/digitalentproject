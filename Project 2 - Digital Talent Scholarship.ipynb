{
 "cells": [
  {
   "cell_type": "markdown",
   "metadata": {},
   "source": [
    "# Project 2 - Digital Talent Scholarship 2020\n",
    "## Accomplished by: Adolf Yoshua Marbun"
   ]
  },
  {
   "cell_type": "markdown",
   "metadata": {},
   "source": [
    "Sebelum mengerjakan dibaca dengan seksama teorinya. **Rumus matematis untuk semua soal sudah ada di lembar ini**\n",
    "\n",
    "Deadline (06.00 AM WIB 15/06/2020)\n",
    "\n",
    "Jadwal update github: Rabu, Sabtu, Senin\n",
    "\n",
    "Untuk yang tidak mengerjakan di colab:\n",
    "* Install matplotlib, atau\n",
    "* Kode visualilasasi dihiraukan saja \n"
   ]
  },
  {
   "cell_type": "markdown",
   "metadata": {},
   "source": [
    "<center>Estimasi nilai $\\pi$ dengan Monte Carlo</center>\n",
    "Dalam project kali ini kita akan memnbuat suatu program simulasi untuk mengestimasi nilai $\\pi$ dengan menggunakan metode Monte Carlo. \n",
    "\n",
    "Monte Carlo merupakan sebuah algoritme matematis yang berdasarkan simulasi dari nilai-nilai random yang diulang-ulang berkali-kali untuk memprediksi distribusi suatu fenomena yang banyak digunakan untuk analisis resiko dan pengambilan keputusan.\n",
    "\n",
    "## Project Items:\n",
    "1. Estimasi luas lingkaran denga MC.\n",
    "2. Estimasi nilai $\\pi$ dengan MC.\n",
    "3. Menghitung error relative dari estimasi $\\pi$ dengan MC."
   ]
  },
  {
   "cell_type": "markdown",
   "metadata": {},
   "source": [
    "1. Buatlah sebuah fungsi `isPointInCircle` dengan posisional argument `x,y,r` dan keyword argument `center` dengan default value sebuah tupple dua nilai `(0,0)`. Untuk menentukan apakah titik `(x,y)` berada di dalam atau di luar lingkaran $L(\\rm{center},r)$. Keluaran fungsi `isPointInCircle` merupakan suatu nilai boolean, `True` Jika titik `(x,y)` berada di dalam lingkaran dan `False` Jika berada di luar.\n",
    "**Note: titik yang berada tepat di lingkaran dikategorikan sebagai dalam, maka `True`.**"
   ]
  },
  {
   "cell_type": "code",
   "execution_count": 3,
   "metadata": {},
   "outputs": [],
   "source": [
    "def isPointInCircle(x, y, r, center=(0,0)):\n",
    "\n",
    "  # Function of cirle\n",
    "  circlefunc = (x-center[0])**2 + (y-center[1])**2\n",
    "\n",
    "  # Check if the point is inside/outside circle\n",
    "  if circlefunc > r**2:\n",
    "    return False # outside circle\n",
    "  else:\n",
    "    return True # inside circle"
   ]
  },
  {
   "cell_type": "code",
   "execution_count": 4,
   "metadata": {},
   "outputs": [
    {
     "name": "stdout",
     "output_type": "stream",
     "text": [
      "False True True False\n"
     ]
    }
   ],
   "source": [
    "# Output Check\n",
    "print(isPointInCircle(1,1,1,center=(0,0)),isPointInCircle(1,0,1,center=(0,0)),\n",
    "      isPointInCircle(1,1,1,center=(1,0)),isPointInCircle(0,0,1,center=(1,1)))"
   ]
  },
  {
   "cell_type": "markdown",
   "metadata": {},
   "source": [
    "2. `generateRandomSquarePoints` dengan dua positional argumen `n` dan `length`, dan keyword argument `center` default: tupple`(0,0)`. Fungsi ini akan mengeluarkan suatu list dengan jumlah `n` titik random `[x,y]` yang berada di dalam suatu kotak persegi dengan panjang `length` dan titik tengah `center`. Keluaran fungsi merupakan list dari `n` titik random `[x,y]`, cth: `[[x1,y1],...,[xn,yn]]`.\n",
    "\n",
    "**hint:**\n",
    "\n",
    "1. Jarak titik tengah `center` ke tepi persegi sama dengan `length/2`.\n",
    "2. Untuk menghasilkan nilai random, gunakan `random.uniform`, penjelasan [random.uniform](https://docs.python.org/3/library/random.html#random.uniform). Untuk menentukan nilai `a` dan `b` dari fungsi random.uniform, coba perhatikan gambar di cell bawah dengan `center=(0,0)`. Note: harus fleksible ketika titik `center` berubah.\n",
    "3. Gunakan list comprehension untuk men-generate n titik x,y tersebut.\n",
    "4. Untuk menyelesaikan hanya butuh ubah satu baris kode, ganti `None` value, dengan kode anda.\n"
   ]
  },
  {
   "cell_type": "code",
   "execution_count": 7,
   "metadata": {},
   "outputs": [],
   "source": [
    "import random\n",
    "\n",
    "def generateRandomSquarePoints(n, length, center=(0,0)):\n",
    "  \n",
    "  minx = center[0]-length/2\n",
    "  miny = center[1]-length/2\n",
    "  \n",
    "  # Gunakan list comprehension dengan variable minx, miny, length, dan n\n",
    "  points = [[random.uniform(minx, minx+length), random.uniform(miny, miny+length)] for i in range(n)]\n",
    "  \n",
    "  return points"
   ]
  },
  {
   "cell_type": "code",
   "execution_count": 6,
   "metadata": {},
   "outputs": [
    {
     "name": "stdout",
     "output_type": "stream",
     "text": [
      "[[99.47592925418378, 100.0884584505919], [99.73991033309616, 100.20784007719239], [100.25144060821611, 99.13105771847962], [99.02633598310975, 100.67493816419292], [99.51870802865602, 99.46866192209339]]\n"
     ]
    },
    {
     "data": {
      "text/plain": [
       "<Figure size 900x900 with 1 Axes>"
      ]
     },
     "metadata": {},
     "output_type": "display_data"
    }
   ],
   "source": [
    "# Output check\n",
    "random.seed(3)\n",
    "\n",
    "# generate 100 point di dalam persegi dengan panjang sisi 1 dan berpusat di (0,0)\n",
    "points = generateRandomSquarePoints(5, 2, center=(100,100))\n",
    "print(points)\n",
    "\n",
    "# Visualization check\n",
    "import matplotlib.pyplot as plt\n",
    "x,y = zip(*points)\n",
    "\n",
    "# persegi dengan panjang sisi 1 dan berpusat di (0,0)\n",
    "r1 = plt.Rectangle((-0.5,-0.5),1,1,color='r', fill=False)\n",
    "c1 = plt.Circle((0,0), 0.5, color='b', fill=False)\n",
    "fig, ax = plt.subplots(figsize=(9,9)) \n",
    "ax.add_artist(r1)\n",
    "ax.add_artist(c1)\n",
    "plt.xlim(-0.6,0.6)\n",
    "plt.ylim(-0.6,0.6)\n",
    "plt.scatter(x,y,s=100,marker='x')\n",
    "plt.show()"
   ]
  },
  {
   "cell_type": "markdown",
   "metadata": {},
   "source": [
    "## Menghitung Luas Lingkaran dengan estimasi MC\n",
    "![alt text](https://github.com/sykrn/py-dts/blob/master/asets/persegilink.png?raw=true)\n",
    "\n",
    "### Kita bisa mengestimasi luas lingkaran dengan MC sebagai berikut.\n",
    "1. Buatlah titik-titik random sebanyak mungkin di dalam sebuah persegi yang bersinggungan dengan lingkaran yang berada di dalamnya yang akan kita hitung luasannya seperti gambar di atas.\n",
    "2. Hitunglah jumlah titik-titik yang berada di dalam lingkaran tersebut.\n",
    "3. Estimasi:\n",
    "\n",
    "$$\\frac{n_{titik-dalam-lingkaran}}{n_{total-titik}}=\\frac{Luas Lingkaran}{Luas Persegi}$$\n",
    "maka,\n",
    "$$Luas Lingkaran=\\frac{n_{titik-dalam-lingkaran}}{n_{total-titik}}\\times Luas Persegi$$\n",
    "di mana,\n",
    "$$Luas Persegi = sisi \\times sisi$$\n",
    "mudah untuk dihitung."
   ]
  },
  {
   "cell_type": "markdown",
   "metadata": {},
   "source": [
    "3. Buatlah fungsi `MCCircleArea` dengan positional argument `r` dan keyword argument dengan default `n=100` dan `center=(0,0)`, untuk menghitung luas lingkaran dengan jari-jari r dengan mengestimasi dari `n` titik random. Keluaran fungsi merupakan suatu nilai yang menunjukkan estimasi luas lingkaran tersebut.\n",
    "\n",
    "**hint:**\n",
    "1. gunakan fungsi yang sudah dibuat di atas `isPointInCircle` dan `generateRandomSquarePoints`.\n",
    "2. perhatikan gambar lingkaran dan persegi di atas, jari-jari $r$ lingkaran sama dengan setengah dari panjang sisi persegi.\n",
    "3. lingkaran dan persegi memiliki pusat yang sama.\n"
   ]
  },
  {
   "cell_type": "code",
   "execution_count": 8,
   "metadata": {},
   "outputs": [],
   "source": [
    "def MCCircleArea(r, n=100, center=(0,0)):\n",
    "  \n",
    "  # result : will be list of circle points (x, y)\n",
    "  result = generateRandomSquarePoints(n, 2*r, center=(0,0))\n",
    "\n",
    "  # newList : list of points which are inside circle\n",
    "  newList = []\n",
    "  for pnt in range(len(result)): \n",
    "    if isPointInCircle(result[pnt][0], result[pnt][1], r, center=(0,0)) == True:\n",
    "      newList.append([result[pnt][0], result[pnt][1]])\n",
    "\n",
    "  # counting amount of points inside circle\n",
    "  n_dalam = len(newList)\n",
    "  areaCircle_est = (n_dalam / n) * (2*r)**2 # estimation of circle area\n",
    "\n",
    "  return areaCircle_est"
   ]
  },
  {
   "cell_type": "code",
   "execution_count": 9,
   "metadata": {},
   "outputs": [
    {
     "name": "stdout",
     "output_type": "stream",
     "text": [
      "3.28 3.2\n"
     ]
    }
   ],
   "source": [
    "# Output check\n",
    "random.seed(0)\n",
    "print(MCCircleArea(1, 100), MCCircleArea(1, 10, center=(10, 10)))"
   ]
  },
  {
   "cell_type": "markdown",
   "metadata": {},
   "source": [
    "---\n",
    "## Estimasi $\\pi$\n",
    "\n",
    "### Luas lingkaran\n",
    "$$Luas = \\pi r^2$$\n",
    "\n",
    "sehingga untuk mengestimasi nilai $\\pi$ sama dengan mengestimasi luas lingkaran dengan jari-jari $r=1$.\n",
    "\n",
    "### Law of large numbers (LLN)\n",
    "merupakan hukum statistik dimana kita bisa menghitung nilai rata-rata dari suatu distribusi atau bahkan standar deviasinya dengan menggunakan banyak sampel. LLN umum digunakan di dalam metode MC.\n",
    "\n",
    "Penjelasan mudahnya: Semakin banyak sampel semakin akurat untuk menghitung rata-rata atau nilai mean-nya. \n",
    "\n",
    "### Estimasi $\\pi$ lebih akurat dengan LLN\n",
    "1. Estimasi luas lingkaran dengan jari-jari satu dengan menggunakan sejumlah titik-titik random.\n",
    "2. lakukan sebanyak mungkin langkah 1.\n",
    "3. ambil nilai rata-ratanya, yaitu $\\mu = \\sum x/n$, yang merupakan estimasi akhir dari metode MC."
   ]
  },
  {
   "cell_type": "markdown",
   "metadata": {},
   "source": [
    "4. Buatlah fungsi `LLNPiMC` untuk mengestimasi nilai `pi` dengan positional argumen `nsim` dan `nsample`. `nsample` merupakan jumlah sample titik-titik random untuk menghitung luas lingkaran berjari-jari 1 (maka Luas = $\\pi$) dan `nsim` merupakan jumlah simulasi untuk menghitung nilai rata-rata atau mean dari estimasi nilai $\\pi$. Keluaran fungsi merupakan nilai mean dari simulasi tersebut (estimasi nilai $\\pi$)."
   ]
  },
  {
   "cell_type": "code",
   "execution_count": 13,
   "metadata": {},
   "outputs": [],
   "source": [
    "def LLNPiMC(nsim, nsample):\n",
    "\n",
    "  # calculating mean of estimated circle area\n",
    "  sum = 0\n",
    "  for i in range(nsim): # looping nsim times\n",
    "    area_circle = MCCircleArea(1, nsample, center=(0,0)) # estimation of circle area with nsample random points\n",
    "    sum += area_circle\n",
    "\n",
    "  mu = sum / nsim\n",
    "\n",
    "  return mu"
   ]
  },
  {
   "cell_type": "code",
   "execution_count": 14,
   "metadata": {},
   "outputs": [
    {
     "name": "stdout",
     "output_type": "stream",
     "text": [
      "est_pi: 3.1416055999999823\n",
      "act_pi: 3.141592653589793\n"
     ]
    }
   ],
   "source": [
    "# Output check\n",
    "import math\n",
    "\n",
    "random.seed(0)\n",
    "estpi = LLNPiMC(10000, 500)\n",
    "\n",
    "print('est_pi:',estpi)\n",
    "print('act_pi:',math.pi)"
   ]
  },
  {
   "cell_type": "markdown",
   "metadata": {},
   "source": [
    "5. Buatlah fungsi `relativeError`, dengan argument `act` yang merupakan nilai aktual, dan `est` yang merupakan nilai estimasi."
   ]
  },
  {
   "cell_type": "code",
   "execution_count": 16,
   "metadata": {},
   "outputs": [],
   "source": [
    "def relativeError(act, est):\n",
    "\n",
    "  err = abs((est - act) / act) * 100 # error relative\n",
    "\n",
    "  return err"
   ]
  },
  {
   "cell_type": "code",
   "execution_count": 17,
   "metadata": {},
   "outputs": [
    {
     "name": "stdout",
     "output_type": "stream",
     "text": [
      "error relatif: 0.0004120970353822341 %\n"
     ]
    }
   ],
   "source": [
    "# Output check\n",
    "print('error relatif:',relativeError(math.pi, estpi),'%')"
   ]
  }
 ],
 "metadata": {
  "kernelspec": {
   "display_name": "Python 3",
   "language": "python",
   "name": "python3"
  },
  "language_info": {
   "codemirror_mode": {
    "name": "ipython",
    "version": 3
   },
   "file_extension": ".py",
   "mimetype": "text/x-python",
   "name": "python",
   "nbconvert_exporter": "python",
   "pygments_lexer": "ipython3",
   "version": "3.7.4"
  }
 },
 "nbformat": 4,
 "nbformat_minor": 2
}
